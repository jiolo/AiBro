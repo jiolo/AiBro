{
  "nbformat": 4,
  "nbformat_minor": 0,
  "metadata": {
    "colab": {
      "provenance": [],
      "toc_visible": true,
      "authorship_tag": "ABX9TyNKSk06OBVewFFWdDY/NbEB",
      "include_colab_link": true
    },
    "kernelspec": {
      "name": "python3",
      "display_name": "Python 3"
    },
    "language_info": {
      "name": "python"
    }
  },
  "cells": [
    {
      "cell_type": "markdown",
      "metadata": {
        "id": "view-in-github",
        "colab_type": "text"
      },
      "source": [
        "<a href=\"https://colab.research.google.com/github/jiolo/AiBro/blob/main/DS_notebook_0.ipynb\" target=\"_parent\"><img src=\"https://colab.research.google.com/assets/colab-badge.svg\" alt=\"Open In Colab\"/></a>"
      ]
    },
    {
      "cell_type": "markdown",
      "source": [
        "##  All in one view"
      ],
      "metadata": {
        "id": "VyQpYc7SCJH6"
      }
    },
    {
      "cell_type": "markdown",
      "source": [],
      "metadata": {
        "id": "U6oqBM6qDPN3"
      }
    },
    {
      "cell_type": "markdown",
      "source": [
        "## Frame The problem and look at the big picture"
      ],
      "metadata": {
        "id": "Kj8haGmUCVgb"
      }
    },
    {
      "cell_type": "code",
      "execution_count": null,
      "metadata": {
        "id": "v3InJIxUBkOf"
      },
      "outputs": [],
      "source": []
    },
    {
      "cell_type": "markdown",
      "source": [
        "## Get the data"
      ],
      "metadata": {
        "id": "8ks1jwsQBz5b"
      }
    },
    {
      "cell_type": "code",
      "source": [],
      "metadata": {
        "id": "7B4e68y4C0mE"
      },
      "execution_count": null,
      "outputs": []
    },
    {
      "cell_type": "markdown",
      "source": [
        "## Explore the Data"
      ],
      "metadata": {
        "id": "xl3DEBxPCmat"
      }
    },
    {
      "cell_type": "code",
      "source": [],
      "metadata": {
        "id": "jM93Yt7vCz8c"
      },
      "execution_count": null,
      "outputs": []
    },
    {
      "cell_type": "markdown",
      "source": [
        "## Prepare the data"
      ],
      "metadata": {
        "id": "qOI5fV0xCpw9"
      }
    },
    {
      "cell_type": "code",
      "source": [],
      "metadata": {
        "id": "hZOHyhrwCECO"
      },
      "execution_count": null,
      "outputs": []
    },
    {
      "cell_type": "markdown",
      "source": [
        "## Shorlist promissing models"
      ],
      "metadata": {
        "id": "6bbQJrq1C1jO"
      }
    },
    {
      "cell_type": "code",
      "source": [],
      "metadata": {
        "id": "2pXsYyKaCMMl"
      },
      "execution_count": null,
      "outputs": []
    },
    {
      "cell_type": "markdown",
      "source": [
        "## Fine-tune the system"
      ],
      "metadata": {
        "id": "l1ggHa4aC6A8"
      }
    },
    {
      "cell_type": "code",
      "source": [],
      "metadata": {
        "id": "vrsqkWLUC9u8"
      },
      "execution_count": null,
      "outputs": []
    },
    {
      "cell_type": "code",
      "source": [],
      "metadata": {
        "id": "F71no21qC-h3"
      },
      "execution_count": null,
      "outputs": []
    },
    {
      "cell_type": "markdown",
      "source": [
        "## Present the solution"
      ],
      "metadata": {
        "id": "cWlluXf1C_HS"
      }
    },
    {
      "cell_type": "code",
      "source": [],
      "metadata": {
        "id": "eQNyPJuCDEsL"
      },
      "execution_count": null,
      "outputs": []
    },
    {
      "cell_type": "markdown",
      "source": [
        "## Launch!"
      ],
      "metadata": {
        "id": "7B2_sCp6DFkL"
      }
    },
    {
      "cell_type": "code",
      "source": [],
      "metadata": {
        "id": "4ZrCHlflDH7T"
      },
      "execution_count": null,
      "outputs": []
    }
  ]
}